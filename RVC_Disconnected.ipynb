#@markdown # Run inference (using CLI)
!python infer-web.py --pycmd python --is_cli

#@markdown This uses the Gradio CLI so you can run inference using your own models, this is experimental.

#@markdown **Instructions**:

#@markdown **1.** Run the cell. 

#@markdown **2.** type ```go infer``` 

#@markdown **3.** Copy the format below ↓

#@markdown Follow this format:

#@markdown ``modelname.pth audios/input.wav output.wav /content/Mangio-RVC-Fork/logs/[modelname]/added_IVF574_Flat_nprobe_1_modelname_v2.index 0 0 rmvpe 160 3 0 0.75 0.7 0.33 0.45 False 8.0 1.2``

#@markdown After that, you should be able to download the WAV file from ```/content/Mangio-RVC-Fork/audio-outputs``` in the file browser to the left.
